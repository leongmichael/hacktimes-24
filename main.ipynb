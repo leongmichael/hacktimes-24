{
 "cells": [
  {
   "cell_type": "code",
   "execution_count": 1,
   "metadata": {},
   "outputs": [
    {
     "name": "stdout",
     "output_type": "stream",
     "text": [
      "8384727\n"
     ]
    }
   ],
   "source": [
    "# The sum of squares of the first 100 prime numbers\n",
    "def is_prime(n):\n",
    "    if n <= 1:\n",
    "        return False\n",
    "    for i in range(2, int(n**0.5) + 1):\n",
    "        if n % i == 0:\n",
    "            return False\n",
    "    return True\n",
    "\n",
    "primes = []\n",
    "num = 2\n",
    "while len(primes) < 100:\n",
    "    if is_prime(num):\n",
    "        primes.append(num)\n",
    "    num += 1\n",
    "\n",
    "\n",
    "total = 0\n",
    "for num in primes:\n",
    "    total += num**2\n",
    "\n",
    "print(total)"
   ]
  },
  {
   "cell_type": "code",
   "execution_count": 48,
   "metadata": {},
   "outputs": [
    {
     "name": "stdout",
     "output_type": "stream",
     "text": [
      "964430272\n"
     ]
    }
   ],
   "source": [
    "# a perfect cube\n",
    "\n",
    "i = 0\n",
    "while True:\n",
    "    cubed_str = str(i**3)\n",
    "    if len(cubed_str) == 9 and cubed_str[0] == '9' and cubed_str[1] == '6' and cubed_str[6] == '2':\n",
    "        print(cubed_str)\n",
    "    elif len(cubed_str) > 9:\n",
    "        break\n",
    "    i+=1"
   ]
  },
  {
   "cell_type": "code",
   "execution_count": 45,
   "metadata": {},
   "outputs": [
    {
     "data": {
      "text/plain": [
       "'45134178'"
      ]
     },
     "execution_count": 45,
     "metadata": {},
     "output_type": "execute_result"
    }
   ],
   "source": [
    "# '1'.join(['4', '3', '7'].map(x=>str(atoi(2*x)+1)))\n",
    "\n",
    "l = ['4', '3', '7']\n",
    "def func(x):\n",
    "    return str(int(2 * x) + 1)\n",
    "\n",
    "new_list = []\n",
    "for i in range(len(l)):\n",
    "    new_list.append(func(l[i]))\n",
    "\n",
    "'1'.join(new_list)\n",
    "\n"
   ]
  },
  {
   "cell_type": "code",
   "execution_count": 39,
   "metadata": {},
   "outputs": [
    {
     "name": "stdout",
     "output_type": "stream",
     "text": [
      "514229\n"
     ]
    }
   ],
   "source": [
    "# 6 digit fibonacci number\n",
    "\n",
    "def fib(n):\n",
    "    if n <= 1:\n",
    "       return n\n",
    "    else:\n",
    "       return(fib(n-1) + fib(n-2))\n",
    "    \n",
    "\n",
    "i = 0\n",
    "while True:\n",
    "   str_fib = str(fib(i))\n",
    "   if len(str_fib) == 6 and str_fib[0] == '5':\n",
    "      print(str_fib)\n",
    "   if len(str_fib) > 6:\n",
    "      break\n",
    "   i+=1\n",
    "\n",
    "\n"
   ]
  },
  {
   "cell_type": "code",
   "execution_count": 50,
   "metadata": {},
   "outputs": [
    {
     "ename": "TypeError",
     "evalue": "'int' object is not subscriptable",
     "output_type": "error",
     "traceback": [
      "\u001b[0;31m---------------------------------------------------------------------------\u001b[0m",
      "\u001b[0;31mTypeError\u001b[0m                                 Traceback (most recent call last)",
      "Cell \u001b[0;32mIn[50], line 13\u001b[0m\n\u001b[1;32m     10\u001b[0m \u001b[38;5;28;01mdef\u001b[39;00m \u001b[38;5;21mis_palindrome\u001b[39m(n):\n\u001b[1;32m     11\u001b[0m     \u001b[38;5;28;01mreturn\u001b[39;00m n \u001b[38;5;241m==\u001b[39m n[::\u001b[38;5;241m-\u001b[39m\u001b[38;5;241m1\u001b[39m]\n\u001b[0;32m---> 13\u001b[0m \u001b[43mis_palindrome\u001b[49m\u001b[43m(\u001b[49m\u001b[38;5;241;43m100\u001b[39;49m\u001b[43m)\u001b[49m\n\u001b[1;32m     15\u001b[0m \u001b[38;5;66;03m# i = 0\u001b[39;00m\n\u001b[1;32m     16\u001b[0m \u001b[38;5;66;03m# while True:\u001b[39;00m\n\u001b[1;32m     17\u001b[0m \u001b[38;5;66;03m#     str_num = str(i)\u001b[39;00m\n\u001b[0;32m   (...)\u001b[0m\n\u001b[1;32m     20\u001b[0m \u001b[38;5;66;03m#         break\u001b[39;00m\n\u001b[1;32m     21\u001b[0m \u001b[38;5;66;03m#     i += 1\u001b[39;00m\n",
      "Cell \u001b[0;32mIn[50], line 11\u001b[0m, in \u001b[0;36mis_palindrome\u001b[0;34m(n)\u001b[0m\n\u001b[1;32m     10\u001b[0m \u001b[38;5;28;01mdef\u001b[39;00m \u001b[38;5;21mis_palindrome\u001b[39m(n):\n\u001b[0;32m---> 11\u001b[0m     \u001b[38;5;28;01mreturn\u001b[39;00m n \u001b[38;5;241m==\u001b[39m \u001b[43mn\u001b[49m\u001b[43m[\u001b[49m\u001b[43m:\u001b[49m\u001b[43m:\u001b[49m\u001b[38;5;241;43m-\u001b[39;49m\u001b[38;5;241;43m1\u001b[39;49m\u001b[43m]\u001b[49m\n",
      "\u001b[0;31mTypeError\u001b[0m: 'int' object is not subscriptable"
     ]
    }
   ],
   "source": [
    "# smallest 5 digit palindromic prime\n",
    "def is_prime(n):\n",
    "    if n <= 1:\n",
    "        return False\n",
    "    for i in range(2, int(n**0.5) + 1):\n",
    "        if n % i == 0:\n",
    "            return False\n",
    "    return True\n",
    "\n",
    "def is_palindrome(n):\n",
    "    return n == n[::-1]\n",
    "\n",
    "\n",
    "i = 0\n",
    "while True:\n",
    "    str_num = str(i)\n",
    "    if is_prime(i) and len(str_num) == 5 and is_palindrome(str_num):\n",
    "        print(str_num)\n",
    "        break\n",
    "    i += 1\n",
    "\n"
   ]
  }
 ],
 "metadata": {
  "kernelspec": {
   "display_name": "Python 3",
   "language": "python",
   "name": "python3"
  },
  "language_info": {
   "codemirror_mode": {
    "name": "ipython",
    "version": 3
   },
   "file_extension": ".py",
   "mimetype": "text/x-python",
   "name": "python",
   "nbconvert_exporter": "python",
   "pygments_lexer": "ipython3",
   "version": "3.11.7"
  }
 },
 "nbformat": 4,
 "nbformat_minor": 2
}
