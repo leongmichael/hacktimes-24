{
 "cells": [
  {
   "cell_type": "code",
   "execution_count": 1,
   "metadata": {},
   "outputs": [
    {
     "name": "stdout",
     "output_type": "stream",
     "text": [
      "8384727\n"
     ]
    }
   ],
   "source": [
    "# The sum of squares of the first 100 prime numbers\n",
    "def is_prime(n):\n",
    "    if n <= 1:\n",
    "        return False\n",
    "    for i in range(2, int(n**0.5) + 1):\n",
    "        if n % i == 0:\n",
    "            return False\n",
    "    return True\n",
    "\n",
    "primes = []\n",
    "num = 2\n",
    "while len(primes) < 100:\n",
    "    if is_prime(num):\n",
    "        primes.append(num)\n",
    "    num += 1\n",
    "\n",
    "\n",
    "total = 0\n",
    "for num in primes:\n",
    "    total += num**2\n",
    "\n",
    "print(total)"
   ]
  },
  {
   "cell_type": "code",
   "execution_count": 33,
   "metadata": {},
   "outputs": [],
   "source": [
    "i = 0\n",
    "while True:\n",
    "    cubed_str = str(i**3)\n",
    "    if len(cubed_str) == 9 and cubed_str[0] == '3' and cubed_str[1] == '6':\n",
    "        print(cubed_str)\n",
    "    elif len(cubed_str) > 9:\n",
    "        break\n",
    "    i+=1"
   ]
  },
  {
   "cell_type": "code",
   "execution_count": 15,
   "metadata": {},
   "outputs": [
    {
     "data": {
      "text/plain": [
       "'45134178'"
      ]
     },
     "execution_count": 15,
     "metadata": {},
     "output_type": "execute_result"
    }
   ],
   "source": [
    "# '1'.join(['4', '3', '7'].map(x=>str(atoi(2*x)+1)))\n",
    "\n",
    "l = ['4', '3', '7']\n",
    "def func(x):\n",
    "    return str(int(2 * x) + 1)\n",
    "\n",
    "new_list = []\n",
    "for i in range(len(l)):\n",
    "    new_list.append(func(l[i]))\n",
    "\n",
    "'1'.join(new_list)\n",
    "\n"
   ]
  },
  {
   "cell_type": "code",
   "execution_count": 25,
   "metadata": {},
   "outputs": [
    {
     "name": "stdout",
     "output_type": "stream",
     "text": [
      "121393\n"
     ]
    }
   ],
   "source": [
    "# 6 digit fibonacci number\n",
    "\n",
    "def fib(n):\n",
    "    if n <= 1:\n",
    "       return n\n",
    "    else:\n",
    "       return(fib(n-1) + fib(n-2))\n",
    "    \n",
    "\n",
    "i = 0\n",
    "while True:\n",
    "   str_fib = str(fib(i))\n",
    "   if len(str_fib) == 6:\n",
    "      print(str_fib)\n",
    "      break\n",
    "   i+=1\n",
    "\n",
    "\n"
   ]
  }
 ],
 "metadata": {
  "kernelspec": {
   "display_name": "Python 3",
   "language": "python",
   "name": "python3"
  },
  "language_info": {
   "codemirror_mode": {
    "name": "ipython",
    "version": 3
   },
   "file_extension": ".py",
   "mimetype": "text/x-python",
   "name": "python",
   "nbconvert_exporter": "python",
   "pygments_lexer": "ipython3",
   "version": "3.11.7"
  }
 },
 "nbformat": 4,
 "nbformat_minor": 2
}
